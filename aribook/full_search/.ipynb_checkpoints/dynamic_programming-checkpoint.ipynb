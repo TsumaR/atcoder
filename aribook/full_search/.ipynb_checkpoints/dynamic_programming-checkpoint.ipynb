{
 "cells": [
  {
   "cell_type": "markdown",
   "metadata": {},
   "source": [
    "# 2-3 値を覚えて再利用\"動的計画法\"\n",
    "\n",
    "## 動的計画法について\n",
    "\n",
    "> 対象となる問題を複数の部分問題に分割し、部分問題の計算結果を記録しながら解いていく手法を総称してこう呼ぶ。([Wikipedia](https://ja.wikipedia.org/wiki/%E5%8B%95%E7%9A%84%E8%A8%88%E7%94%BB%E6%B3%95))\n",
    "\n",
    "> 細かくアルゴリズムが定義されているわけではなく、下記2条件を満たすアルゴリズムの総称である。\n",
    "  * 帰納的な関係の利用：より小さな問題例の解や計算結果を帰納的な関係を利用してより大きな問題例を解くのに使用する。\n",
    "  * 計算結果の記録：小さな問題例、計算結果から記録し、同じ計算を何度も行うことを避ける。帰納的な関係での参照を効率よく行うために、計算結果は整数、文字やその組みなどを見出しにして管理される。\n",
    "  \n",
    "分割統治法において計算結果を記録して再利用する方法と，ボトムアップ方式がある。，\n",
    "先にDP配列を初期化して用意してボトムアップにfor文を回すのと，\n",
    "一度計算した計算結果を保持して再帰を回す(再帰の中で同じ処理を何度も行うを防ぐ)メモ化再起がある。\n",
    "とはいえ，どちらにおいても探索過程をまとめるといった点で同様。\n",
    "\n",
    "下のfrog問題を例とすると，全探索によるアルゴリズムに比べて記録を残して行うDPの効率がいいことがわかる。全探索では2^n\n",
    "\n",
    "【コメント】\n",
    "大きな配列はグローバル変数として保持する考えは重要。\n",
    "\n",
    "解く時の思考の流れ\n",
    "\n",
    "1. 全探索によるアルゴリズムを考える。\n",
    "2. 動的計画法のアルゴリズムを考える。\n",
    "\n",
    "実装の際\n",
    "\n",
    "* 1. DP配列全体を「DPの種類に応じた初期値」で初期化\n",
    "* 2. 初期条件を入力\n",
    "* 3. ループを回す\n",
    "* 4. テーブルから解を得て出力\n",
    "\n",
    "「再帰的な全探索」に対するイメージと勘の練度を高めて行くことが、DP を習得する上で重要\n",
    "\n",
    "## 動的計画法で参考になる記事\n",
    "\n",
    "蟻本をAtCoder問題にまとめてくださっている[けんちょんさん](https://qiita.com/drken)の記事が参考になる。\n",
    "\n",
    "* [動的計画法超入門! Educational DP Contest](https://qiita.com/drken/items/dc53c683d6de8aeacf5a)\n",
    "* [動的計画法のパターンを整理](https://qiita.com/drken/items/a5e6fe22863b7992efdb)\n",
    "\n",
    "### [EDPC A問題](https://atcoder.jp/contests/dp/tasks/dp_a)を解いてなんたるかを理解する。\n",
    "\n",
    "> NN 個の足場があって、ii 番目の足場の高さは hihi です。\n",
    "最初、足場 11 にカエルがいて、ぴょんぴょん跳ねながら足場 NN へと向かいます。カエルは足場 ii にいるときに\n",
    "足場 ii から足場 i+1i+1 へと移動する (そのコストは |hi−hi+1||hi−hi+1|)\n",
    "足場 ii から足場 i+2i+2 へと移動する (そのコストは |hi−hi+2||hi−hi+2|)\n",
    "のいずれかの行動を選べます。カエルが足場 11 から足場 NN へと移動するのに必要な最小コストを求めよ。\n",
    "\n",
    "#### ボトムアップにforを回す解答"
   ]
  },
  {
   "cell_type": "code",
   "execution_count": 1,
   "metadata": {},
   "outputs": [
    {
     "name": "stdin",
     "output_type": "stream",
     "text": [
      " 6\n",
      " 30 10 60 10 60 50\n"
     ]
    },
    {
     "name": "stdout",
     "output_type": "stream",
     "text": [
      "40\n"
     ]
    }
   ],
   "source": [
    "N = int(input())\n",
    "ashiba = list(map(int, input().split()))\n",
    "\n",
    "# dp配列の準備\n",
    "dp = [\"inf\"] * N\n",
    "\n",
    "dp[0] = 0\n",
    "dp[1] = abs(ashiba[1] - ashiba[0])\n",
    "for i in range(2, N):\n",
    "    dp[i] = min(dp[i-2] + abs(ashiba[i] - ashiba[i-2]), dp[i-1] + abs(ashiba[i] - ashiba[i-1]))\n",
    "\n",
    "print(dp[N-1])"
   ]
  },
  {
   "cell_type": "markdown",
   "metadata": {},
   "source": [
    "## 例題2-3-1 01ナップサック問題\n",
    "\n",
    "ここから[AtCoder版!蟻本(初級編)](https://qiita.com/drken/items/e77685614f3c6bf86f44)を解いていく\n",
    "\n",
    "【キーワード】\n",
    "\n",
    "* DP\n",
    "* ナップサックDP\n",
    "\n",
    "【コメント】\n",
    "> ナップサックな DP については[記事](https://qiita.com/drken/items/a5e6fe22863b7992efdb)を書いてみました。DP を漸化式だととらえる立場からの入門記事です。DP を全探索の効率化から入る立場の入門資料として[「プログラミングコンテストにおける動的計画法」](https://www.slideshare.net/iwiwi/ss-3578511)がとてもよいです。漸化式派と全探索メモ化派は、強い人たちの間でも二分されているので肌の合う考え方で入門していくのがいいと思います。\n",
    "\n",
    "### [AOJ ナップサック問題](http://judge.u-aizu.ac.jp/onlinejudge/description.jsp?id=DPL_1_B&lang=jp)\n",
    "\n",
    "> 価値が vi 重さが wi であるような N 個の品物と、容量が W のナップザックがあります。次の条件を満たすように、品物を選んでナップザックに入れます：\n",
    "* 選んだ品物の価値の合計をできるだけ高くする。\n",
    "* 選んだ品物の重さの総和は W を超えない。\n",
    "\n",
    "> 価値の合計の最大値を求めてください。"
   ]
  },
  {
   "cell_type": "code",
   "execution_count": null,
   "metadata": {},
   "outputs": [],
   "source": [
    "N, W = map(int, input().split())\n",
    "items = [list(map(int, input().split())) for _ in range(N)]\n",
    "\n",
    "dp = [[0] * (W + 1) for _ in range(N + 1)]\n",
    "\n",
    "for i in range(N):\n",
    "    for w in range(W + 1):\n",
    "        # itemの重さよりdpテーブルの小さいところには入れることができないので\n",
    "        if w < items[i][1]:\n",
    "            dp[i + 1][w] = dp[i][w]\n",
    "        else:\n",
    "            # 選択するかしないかを選ぶ\n",
    "            dp[i + 1][w] = max(dp[i][w], dp[i][w - items[i][1]] + items[i][0])\n",
    "\n",
    "print(dp)"
   ]
  },
  {
   "cell_type": "markdown",
   "metadata": {},
   "source": [
    "### コンテスト(TDPC Aコンテスト)\n",
    "\n",
    "部分和問題\n",
    "\n",
    "> N\n",
    "  問の問題があるコンテストがあり、\n",
    "i\n",
    " 問目の問題の配点は \n",
    "p\n",
    "i\n",
    " 点である。コンテスタントは、この問題の中から何問か解き、解いた問題の配点の合計が得点となる。このコンテストの得点は何通り考えられるか。"
   ]
  },
  {
   "cell_type": "code",
   "execution_count": 2,
   "metadata": {},
   "outputs": [
    {
     "name": "stdin",
     "output_type": "stream",
     "text": [
      " 3\n",
      " 2 3 5\n"
     ]
    },
    {
     "name": "stdout",
     "output_type": "stream",
     "text": [
      "7\n"
     ]
    }
   ],
   "source": [
    "N = int(input())\n",
    "A = list(map(int, input().split()))\n",
    "\n",
    "max_num = sum(A)\n",
    "dp = [False] * (max_num+1)\n",
    "dp[0] = True\n",
    "\n",
    "for i in range(N):\n",
    "    for j in reversed(range(max_num + 1)):\n",
    "        if j - A[i] >= 0 and dp[j-A[i]]:\n",
    "            dp[j] = True\n",
    "print(sum(dp))"
   ]
  },
  {
   "cell_type": "markdown",
   "metadata": {},
   "source": [
    "### [サイコロ(TDPC D)](https://atcoder.jp/contests/tdpc/tasks/tdpc_dice)\n",
    "\n",
    "> サイコロを \n",
    "N\n",
    " 回振ったとき、出た目の積が \n",
    "D\n",
    " の倍数となる確率を求めよ。\n",
    " \n",
    " 添字を増やす系のナップサック\n",
    " \n",
    " __難しかったので今後やることにした__"
   ]
  },
  {
   "cell_type": "markdown",
   "metadata": {},
   "source": [
    "## 例題2-3-2 最長共通部分列問題\n",
    "\n",
    "【キーワード】\n",
    "\n",
    "* DP\n",
    "* LCS\n",
    "* 二次元ナップサック DP\n",
    "\n",
    "【コメント】\n",
    "系列に沿って進んでいくindexが2つになったバージョンのナップサック型DP。\n",
    "\n",
    "### [AOJ Course Longest Common Subusequence](http://judge.u-aizu.ac.jp/onlinejudge/description.jsp?id=ALDS1_10_C&lang=jp)\n",
    "\n",
    "> 最長共通部分列問題 (Longest Common Subsequence problem: LCS)は、２つの与えられた列 X={x1,x2,...,xm} と Y={y1,y2,...,yn} の最長共通部分列を求める問題です。\n",
    "ある列 Z が X と Y 両方の部分列であるとき、Z を X とY の共通部分列と言います。例えば、X={a,b,c,b,d,a,b}, Y={b,d,c,a,b,a} とすると、列 {b,c,a} は X と Y の共通部分列です。一方、列 {b,c,a} は X と Y の最長共通部分列ではありません。なぜなら、その長さは 3 であり、長さ 4 の共通部分列 {b,c,b,a} が存在するからです。長さが 5 以上の共通部分列が存在しないので、列 {b,c,b,a} は X と Y の最長共通部分列の１つです。\n",
    "与えられた２つの文字列 X、Yに対して、最長共通部分列 Z の長さを出力するプログラムを作成してください。与えられる文字列は英文字のみで構成されています。\n",
    "\n",
    "複数のデータ列が与えられるのが面倒臭い"
   ]
  },
  {
   "cell_type": "code",
   "execution_count": null,
   "metadata": {},
   "outputs": [],
   "source": [
    "N = int(input())\n",
    "\n",
    "X = []\n",
    "Y = []\n",
    "\n",
    "for i in range(N):\n",
    "    X.append([i for i in input()])\n",
    "    Y.append([i for i in input()])\n",
    "\n",
    "def find_longest_common(x,y):\n",
    "    dp = [[0] * (len(x)+1) for _ in range(len(y) + 1)]\n",
    "    for i in range(len(y)):\n",
    "        for j in range(len(x)):\n",
    "            if x[j] == y[i]:\n",
    "                # dp[i+1][j+1] = max(dp[i][j] + 1, dp[i+1][j], dp[i][j+1])\n",
    "                dp[i+1][j+1] = dp[i][j] + 1\n",
    "            else:\n",
    "                dp[i+1][j+1] = max(dp[i+1][j], dp[i][j+1])\n",
    "    print(dp[len(y)][len(x)])\n",
    "            \n",
    "for s in range(N):\n",
    "    find_longest_common(X[s], Y[s])\n"
   ]
  },
  {
   "cell_type": "code",
   "execution_count": null,
   "metadata": {},
   "outputs": [],
   "source": []
  }
 ],
 "metadata": {
  "kernelspec": {
   "display_name": "Python 3",
   "language": "python",
   "name": "python3"
  },
  "language_info": {
   "codemirror_mode": {
    "name": "ipython",
    "version": 3
   },
   "file_extension": ".py",
   "mimetype": "text/x-python",
   "name": "python",
   "nbconvert_exporter": "python",
   "pygments_lexer": "ipython3",
   "version": "3.6.9"
  }
 },
 "nbformat": 4,
 "nbformat_minor": 2
}
