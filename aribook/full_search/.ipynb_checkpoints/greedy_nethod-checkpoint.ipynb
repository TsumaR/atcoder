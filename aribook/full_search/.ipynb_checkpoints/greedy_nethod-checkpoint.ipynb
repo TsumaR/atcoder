{
 "cells": [
  {
   "cell_type": "markdown",
   "metadata": {},
   "source": [
    "# 2-2 猪突猛進! \"貪欲法\"\n",
    "\n",
    "> 貪欲法は局所探索法と並んで近似アルゴリズムの最も基本的な考え方の一つである。\n",
    "このアルゴリズムは問題の要素を複数の部分問題に分割し、それぞれを独立に評価を行い、評価値の高い順に取り込んでいくことで解を得るという方法である。動的計画法と異なり保持する状態は常に一つであり、一度選択した要素を再考する事は無い。このため得られる解は最適解であるという保証は無いが部分問題の解法と単純なソートのみでプログラムを実装することが可能であり、多く問題に対して多項式時間での近似アルゴリズムとなる。\n",
    "\n",
    "## Addition and Multiplication(abc70-b)\n",
    "\n",
    "> 問題\n",
    "square1001 は、電光掲示板に整数1が表示されているのを見ました。\n",
    "彼は、電光掲示板に対して、以下の操作 A, 操作 B をすることができます。\n",
    "操作 A： 電光掲示板に表示する整数を「今の電光掲示板の整数を2倍にしたもの」に変える。\n",
    "操作 B： 電光掲示板に表示する整数を「今の電光掲示板の整数にKを足したもの」に変える。\n",
    "square1001は、操作A,操作B合計でN回行わなければなりません。そのとき、N回の操作後の、電光掲示板に書かれている整数として考えられる最小の値を求めなさい。\n",
    "制約\n",
    "\n",
    ">1≤N,K≤101≤N,K≤10\n",
    "入力(N,KN,K)はすべて整数である\n",
    "\n",
    "考察\n",
    "N回の操作のうち，それぞれで小さくなるものを選ぶという問題に分割できる。\n",
    "\n",
    "答え\n",
    "\n",
    "```python\n",
    "N = int(input())\n",
    "K = int(input())\n",
    "\n",
    "display = 1\n",
    "for i in range(N):\n",
    "    if display + K <= 2 * display:\n",
    "        display += K\n",
    "    else:\n",
    "        display *= 2\n",
    "\n",
    "print(display)\n",
    "```\n",
    "\n",
    "## 例題2-2-1 硬貨の問題\n",
    "\n",
    "【キーワード】\n",
    "\n",
    "* Greedy\n",
    "* コイン\n",
    "\n",
    "【コメント】\n",
    "硬貨の問題がgreedyで良いことはそんなに自明じゃないらしい。\n",
    "\n",
    "【問題】\n",
    "\n",
    "> 太郎君はよくJOI雑貨店で買い物をする． JOI雑貨店には硬貨は \n",
    "500\n",
    " 円， \n",
    "100\n",
    " 円， \n",
    "50\n",
    " 円， \n",
    "10\n",
    " 円， \n",
    "5\n",
    " 円， \n",
    "1\n",
    " 円が十分な数だけあり，いつも最も枚数が少なくなるようなおつ りの支払い方をする． 太郎君がJOI雑貨店で買い物をしてレジで \n",
    "1000\n",
    " 円札を \n",
    "1\n",
    " 枚出した時，もらうおつりに含まれる硬貨の枚数を求めるプログ ラムを作成せよ．\n",
    "例えば入力例 \n",
    "1\n",
    " の場合は下の図に示すように， \n",
    "4\n",
    " を出力しなければならない．"
   ]
  },
  {
   "cell_type": "code",
   "execution_count": 2,
   "metadata": {},
   "outputs": [
    {
     "name": "stdin",
     "output_type": "stream",
     "text": [
      " 380\n"
     ]
    },
    {
     "name": "stdout",
     "output_type": "stream",
     "text": [
      "4\n"
     ]
    }
   ],
   "source": [
    "Charge = 1000 - int(input())\n",
    "\n",
    "count_coin = 0\n",
    "\n",
    "coin_kind = [1, 5, 10, 50, 100, 500]\n",
    "\n",
    "for i in range(1,7):\n",
    "    t = Charge // coin_kind[-i]\n",
    "    Charge -= t * coin_kind[-i]\n",
    "    count_coin += t\n",
    "\n",
    "print(count_coin)"
   ]
  },
  {
   "cell_type": "markdown",
   "metadata": {},
   "source": [
    "## 例題2-2-2 区間スケジューリング問題\n",
    "\n",
    "始点，終点が決まっているものについて，できる限り多く選択していく問題。\n",
    "\n",
    "【キーワード】\n",
    "\n",
    "* Greedy\n",
    "* 区間の終端でソート (DEGwer さんの[数え上げテクニック集](https://drive.google.com/file/d/1WC7Y2Ni-8elttUgorfbix9tO1fvYN3g3/view) にも記載あり)\n",
    "\n",
    "【コメント】\n",
    "\n",
    "> 区間の終端 (または始端) でソートするのは極めてよくみるテクニックで、今後難しい問題に挑むときにも常に念頭に置いておきたいです。"
   ]
  },
  {
   "cell_type": "markdown",
   "metadata": {},
   "source": [
    "### [キーエンスプログラミングコンテスト2020 B Robot Arms](https://atcoder.jp/contests/keyence2020/tasks/keyence2020_b)\n",
    "\n",
    "> ある工場では、 数直線上に \n",
    "N\n",
    " 個のロボットが設置されています。 ロボット \n",
    "i\n",
    " は座標 \n",
    "X\n",
    "i\n",
    " に設置されており、数直線の正負の方向にそれぞれ長さ \n",
    "L\n",
    "i\n",
    " の腕を伸ばすことができます。\n",
    "これらのロボットのうちいくつか (\n",
    "0\n",
    " 個以上) を取り除き、 残ったどの \n",
    "2\n",
    " つのロボットについても、腕が動く範囲が共通部分を持たないようにしたいと思います。 ただし、各 \n",
    "i\n",
    " (\n",
    "1\n",
    "≤\n",
    "i\n",
    "≤\n",
    "N\n",
    ") に対して、 ロボット \n",
    "i\n",
    " の腕が動く範囲とは 数直線上の座標が \n",
    "X\n",
    "i\n",
    "−\n",
    "L\n",
    "i\n",
    " より大きく \n",
    "X\n",
    "i\n",
    "+\n",
    "L\n",
    "i\n",
    " 未満の部分を指します。\n",
    "取り除かずに残せるロボットの個数の最大値を求めてください。"
   ]
  },
  {
   "cell_type": "markdown",
   "metadata": {},
   "source": [
    "考察\n",
    "\n",
    "できるだけたくさんを取りたいので，終点が近い順に選んでいけば良い。→終点昇順で並べかえ，順番に取っていくだけ"
   ]
  },
  {
   "cell_type": "code",
   "execution_count": null,
   "metadata": {},
   "outputs": [],
   "source": [
    "N = int(input())\n",
    "R = [list(map(int, input().split())) for _ in range(N)]\n",
    "\n",
    "# [終点，始点]のリスト\n",
    "coordinate = [[i[0] + i[1], max(i[0] - i[1], 0), ] for i in R]\n",
    "coordinate.sort()\n",
    "\n",
    "ans = 0\n",
    "end_point = 0\n",
    "\n",
    "for i in range(N):\n",
    "    if end_point <= coordinate[i][1]:\n",
    "        ans += 1\n",
    "        end_point = coordinate[i][0]\n",
    "\n",
    "print(ans)"
   ]
  },
  {
   "cell_type": "markdown",
   "metadata": {},
   "source": [
    "### [A-東京都(KUPC2015-a)](https://atcoder.jp/contests/kupc2015/tasks/kupc2015_a)\n",
    "\n",
    "> KUPC2015は東京と京都の二箇所でオンサイトが開催されている． あなたはKUPCの告知を手伝うことにした．\n",
    "英小文字からなる文字列が印字されたテープがある．あなたはこのテープを文字同士の間でのみ好きなだけ自由に切ってもよい．\n",
    "あなたはtokyoかkyotoのいずれかの文字列を含むテープをなるべくたくさん作りたい．ただし，一旦切ったテープを後でくっつけることはできないものとする．\n",
    "作る事ができるtokyoもしくはkyotoを含むテープの数の最大値を出力せよ．\n",
    "\n",
    "考察\n",
    "\n",
    "今回は後ろ順でsortするとかしなくて良い。単純に前から5文字ずつ見ていく。"
   ]
  },
  {
   "cell_type": "code",
   "execution_count": 4,
   "metadata": {},
   "outputs": [
    {
     "name": "stdin",
     "output_type": "stream",
     "text": [
      " 3\n",
      " higashikyoto\n"
     ]
    },
    {
     "name": "stdout",
     "output_type": "stream",
     "text": [
      "1\n"
     ]
    },
    {
     "name": "stdin",
     "output_type": "stream",
     "text": [
      " kupconsitokyotokyoto\n"
     ]
    },
    {
     "name": "stdout",
     "output_type": "stream",
     "text": [
      "2\n"
     ]
    },
    {
     "name": "stdin",
     "output_type": "stream",
     "text": [
      " kaljoagighakyoto\n"
     ]
    },
    {
     "name": "stdout",
     "output_type": "stream",
     "text": [
      "1\n"
     ]
    }
   ],
   "source": [
    "T = int(input())\n",
    "for t in range(T):\n",
    "    S = input()\n",
    "    count = 0\n",
    "    position = 0\n",
    "    while position < len(S) - 4:\n",
    "        if S[position:position + 5] == \"tokyo\" or S[position:position + 5] == \"kyoto\":\n",
    "            count += 1\n",
    "            position += 5\n",
    "        else:\n",
    "            position += 1\n",
    "    print(count)"
   ]
  },
  {
   "cell_type": "markdown",
   "metadata": {},
   "source": [
    "## 例題 2-2-3 Best Cow Line\n",
    "\n",
    "【キーワード】\n",
    "\n",
    "* Greedy\n",
    "* 辞書順最小なものを求めるGreedy\n",
    "\n",
    "【コメント】\n",
    "\n",
    "> 辞書順最小なものを求めよと言われたときにとにかく先頭から最小になることを優先していく考え方は超頻出ですね。"
   ]
  },
  {
   "cell_type": "markdown",
   "metadata": {},
   "source": [
    "### [Dubious Document 2 (abc076c)](https://atcoder.jp/contests/abc076/tasks/abc076_c)\n",
    "\n",
    "> E869120 は、宝物が入ってそうな箱を見つけました。\n",
    "しかし、これには鍵がかかっており、鍵を開けるためには英小文字からなる文字列 \n",
    "S\n",
    " が必要です。\n",
    "彼は文字列 \n",
    "S\n",
    "′\n",
    " を見つけ、これは文字列 \n",
    "S\n",
    " の \n",
    "0\n",
    " 個以上 \n",
    "|\n",
    "S\n",
    "|\n",
    " 個以内の文字が ? に置き換わった文字列であることも分かりました。\n",
    "ただし、文字列 \n",
    "A\n",
    " に対して、\n",
    "|\n",
    "A\n",
    "|\n",
    " を「文字列 \n",
    "A\n",
    " の長さ」とします。\n",
    "そこで、E869120 はヒントとなる紙を見つけました。\n",
    "条件1：文字列 \n",
    "S\n",
    " の中に連続する部分文字列として英小文字から成る文字列 \n",
    "T\n",
    " が含まれている。\n",
    "条件2：\n",
    "S\n",
    " は、条件1を満たす文字列の中で辞書順最小の文字列である。\n",
    "そのとき、鍵となる文字列 \n",
    "S\n",
    " を出力しなさい。\n",
    "ただし、そのような文字列 \n",
    "S\n",
    " が存在しない場合は代わりに UNRESTORABLE と出力しなさい。"
   ]
  },
  {
   "cell_type": "markdown",
   "metadata": {},
   "source": [
    "考察\n",
    "\n",
    "二箇所以上に入るなら，後ろ側に入れ，前のところは全てaで埋めてしまった方がいい。\n",
    "つまり，後ろから探索することを考える。"
   ]
  },
  {
   "cell_type": "code",
   "execution_count": 6,
   "metadata": {},
   "outputs": [
    {
     "name": "stdin",
     "output_type": "stream",
     "text": [
      " ?tc????\n",
      " coder\n"
     ]
    },
    {
     "name": "stdout",
     "output_type": "stream",
     "text": [
      "atcoder\n"
     ]
    }
   ],
   "source": [
    "import sys\n",
    "\n",
    "S = list(input())\n",
    "T = list(input())\n",
    "\n",
    "length = len(T)\n",
    "position = len(S) - length\n",
    "\n",
    "while position >= 0:\n",
    "    text = S[position:position+length]\n",
    "    for i in range(length):\n",
    "        if text[i] == \"?\":\n",
    "            text[i] = T[i]\n",
    "    if text != T:\n",
    "        position -= 1\n",
    "    else:\n",
    "        S[position:position+length] = T\n",
    "        position = -10\n",
    "\n",
    "if position != -10:\n",
    "    print(\"UNRESTORABLE\")\n",
    "    sys.exit()\n",
    "\n",
    "for i in range(len(S)):\n",
    "    if S[i] == \"?\":\n",
    "        S[i] = \"a\"\n",
    "\n",
    "print(\"\".join(S))"
   ]
  },
  {
   "cell_type": "markdown",
   "metadata": {},
   "source": [
    "ただし，もっと綺麗にかけるはず。例えば\n",
    "\n",
    "```python\n",
    "sd = input()\n",
    "t = input()\n",
    "\n",
    "n = len(sd)\n",
    "m = len(t)\n",
    "s = []\n",
    "\n",
    "# sd を後ろから見ていき、 t の入りそうな場所を探す\n",
    "for i in range(n - m, -1, -1):\n",
    "    t_kamo = sd[i:i + m]\n",
    "    for j in range(m + 1):\n",
    "        # 1文字ずつ順に入りうるか調べ、最後まで入るなら \"?\" を \"a\" に置き換えて出力\n",
    "        if j == m:\n",
    "            print((sd[:i] + t + sd[i + len(t):]).replace(\"?\", \"a\"))\n",
    "            exit()\n",
    "        if t_kamo[j] == \"?\":\n",
    "            continue\n",
    "        elif t_kamo[j] != t[j]:\n",
    "            break\n",
    "\n",
    "print(\"UNRESTORABLE\")\n",
    "```"
   ]
  },
  {
   "cell_type": "markdown",
   "metadata": {},
   "source": [
    "## 例題2-2-4 Saruman's Army\n",
    "\n",
    "【キーワード】\n",
    "* Greedy\n",
    "* より厳しいところを取っていくGreedy。(一般に「交換しても悪化しない」)\n",
    "\n",
    "【コメント】\n",
    "\n",
    "> Greedy アルゴリズムを考えるときに、より厳しいところをとっていく考え方は頻出のイメージです。その最も典型的な例として、一次元的 (二次元量もOK) な数量の大小関係だけでマッチング条件が決まるような問題における最大二部マッチング問題があります。"
   ]
  },
  {
   "cell_type": "markdown",
   "metadata": {},
   "source": [
    "### [Multiple Gift(abc083c)](https://atcoder.jp/contests/abc083/tasks/arc088_a)\n",
    "\n",
    "> 高橋君は、日頃の感謝を込めて、お母さんに数列をプレゼントすることにしました。 お母さんにプレゼントする数列 \n",
    "A\n",
    " は、以下の条件を満たす必要があります。\n",
    "A\n",
    " は \n",
    "X\n",
    " 以上 \n",
    "Y\n",
    " 以下の整数からなる\n",
    "すべての \n",
    "1\n",
    "≤\n",
    "i\n",
    "≤\n",
    "|\n",
    "A\n",
    "|\n",
    "−\n",
    "1\n",
    " に対し、\n",
    "A\n",
    "i\n",
    "+\n",
    "1\n",
    " は \n",
    "A\n",
    "i\n",
    " の倍数であり、かつ \n",
    "A\n",
    "i\n",
    "+\n",
    "1\n",
    " は \n",
    "A\n",
    "i\n",
    " より真に大きい\n",
    "高橋君がお母さんにプレゼントできる数列の長さの最大値を求めてください。"
   ]
  },
  {
   "cell_type": "markdown",
   "metadata": {},
   "source": [
    "考察\n",
    "\n",
    "Ai +1 = 2*Aiということ。\n",
    "スタートは必ずXで良い。\n",
    "X * 2^(a-1) <= Y となる最大のaを求める問題。"
   ]
  },
  {
   "cell_type": "code",
   "execution_count": 1,
   "metadata": {},
   "outputs": [
    {
     "name": "stdin",
     "output_type": "stream",
     "text": [
      " 25 100\n"
     ]
    },
    {
     "name": "stdout",
     "output_type": "stream",
     "text": [
      "3\n"
     ]
    }
   ],
   "source": [
    "x, y = map(int, input().split())\n",
    "\n",
    "ans = 0\n",
    "\n",
    "while x <= y:\n",
    "    x *= 2\n",
    "    ans += 1\n",
    "\n",
    "print(ans)"
   ]
  },
  {
   "cell_type": "markdown",
   "metadata": {},
   "source": [
    "### [積み重ね(arc006c)](https://atcoder.jp/contests/arc006/tasks/arc006_3)\n",
    "\n",
    "> 高橋君はもう大人なので、親元を離れて一人暮らしをすることにしました。トラックから引越し先の部屋へと荷物のダンボールを運びたいのですが、部屋の床がダンボールで埋まってしまうと、今日高橋君が寝るための布団がひけません。\n",
    "　そこで、\n",
    "1\n",
    " 箱ずつ広げて置くのではなく、ある程度ダンボールを積み重ねた山を作ることにしました。しかし、ダンボールには重さが決まっており、下にあるダンボールよりも重いダンボールを上に積み重ねると下のダンボールが潰れてしまいます。\n",
    " トラックから運ぶ順にダンボールの重さが与えられるので、ダンボールを潰さないような積み重ね方を考えなさい。そして、その積み重ねた山の個数が最小となる場合の山の個数を求めなさい。\n",
    " \n",
    "【コメント】\n",
    "典型問題"
   ]
  },
  {
   "cell_type": "markdown",
   "metadata": {},
   "source": [
    "考察\n",
    "\n",
    "順番に取り出し，載せられる山があれば載せて，無理なら加える。\n",
    "山の頂点の重さを記録したリストを作成すれば良い。"
   ]
  },
  {
   "cell_type": "code",
   "execution_count": 4,
   "metadata": {},
   "outputs": [
    {
     "name": "stdin",
     "output_type": "stream",
     "text": [
      " 5\n",
      " 4\n",
      " 3\n",
      " 1\n",
      " 2\n",
      " 1\n"
     ]
    },
    {
     "name": "stdout",
     "output_type": "stream",
     "text": [
      "2\n"
     ]
    }
   ],
   "source": [
    "from collections import deque\n",
    "\n",
    "N = int(input())\n",
    "D = [int(input()) for _ in range(N)]\n",
    "tower = []\n",
    "\n",
    "def stacking(box, tower):\n",
    "    if tower == [] or box > max(tower):\n",
    "        tower.append(box)\n",
    "    else:\n",
    "        tower.sort()\n",
    "        for i in range(len(tower)):\n",
    "            if tower[i] >= box:\n",
    "                tower[i] = box\n",
    "                break\n",
    "                \n",
    "    return tower\n",
    "\n",
    "for j in range(N):\n",
    "    box = D[j]\n",
    "    stacking(box, tower)\n",
    "\n",
    "print(len(tower))"
   ]
  },
  {
   "cell_type": "markdown",
   "metadata": {},
   "source": [
    "### [おいしいたこ焼きの売り方(abc005c)](https://atcoder.jp/contests/abc005/tasks/abc005_3)\n",
    "\n",
    "> 高橋君は、たこ焼きをどの順番で売るか悩んでいました。というのも、作り置きされたたこ焼きは美味しくないとわかっているので、高橋君はそのようなたこ焼きを売りたくないのですが、できたてばかり売ってしまうと売れるたこ焼きの数が減ってしまいます。\n",
    "また、お客さんを待たせてばかりだと、次第にお客さんが離れてしまうだろうと高橋君は考えています。\n",
    "そこで、彼は \n",
    "T\n",
    " 秒以内に作成されたたこ焼きを売り続けることで、お客さんを捌ききれるかどうかを調べることにしました。\n",
    "たこ焼きは \n",
    "A\n",
    "1\n",
    "、\n",
    "A\n",
    "2\n",
    "、…、\n",
    "A\n",
    "N\n",
    " 秒後に焼きあがります。\n",
    "お客さんは \n",
    "B\n",
    "1\n",
    "、\n",
    "B\n",
    "2\n",
    "、…、\n",
    "B\n",
    "M\n",
    " 秒後にやってきます。\n",
    "1\n",
    " 人のお客さんに対して、たこ焼きを \n",
    "1\n",
    " つ売るとします。すべてのお客さんにたこ焼きを売れるならyes、売れないならnoを出力して下さい。\n",
    " \n",
    " 何故かRE，あとでやり直す必要がある。"
   ]
  },
  {
   "cell_type": "code",
   "execution_count": null,
   "metadata": {},
   "outputs": [],
   "source": [
    "import copy\n",
    "import sys\n",
    "from collections import deque\n",
    "\n",
    "# 何秒以内のたこ焼きまで売るか\n",
    "T = int(input())\n",
    "# たこ焼きの数\n",
    "N = int(input())\n",
    "A = list(map(int, input().split()))\n",
    "# 来店者数\n",
    "M = int(input())\n",
    "B = list(map(int, input().split()))\n",
    "\n",
    "# 客と\n",
    "takoyaki = [0] * 100\n",
    "customer = [0] * 100\n",
    "\n",
    "for i in A:\n",
    "    takoyaki[i] += 1\n",
    "for i in B:\n",
    "    customer[i] += 1\n",
    "\n",
    "# メイン\n",
    "yakiagari = deque([])\n",
    "for i in range(100):\n",
    "    for _ in range(takoyaki[i]):\n",
    "        yakiagari.append(T)\n",
    "    if len(yakiagari) < customer[i]:\n",
    "        print(\"no\")\n",
    "        sys.exit()\n",
    "    else:\n",
    "        for _ in range(customer[i]):\n",
    "            yakiagari.popleft()\n",
    "    yakiagari = map(lambda x: x-1, yakiagari)\n",
    "    yakiagari = deque([l for l in yakiagari if l < 0])\n",
    "    \n",
    "print(\"yes\")"
   ]
  },
  {
   "cell_type": "markdown",
   "metadata": {},
   "source": [
    "## Fence Repair(POJ No.3253)\n",
    "\n",
    "【キーワード】\n",
    "\n",
    "* Greedy\n",
    "* priority_queue\n",
    "* ハフマン符号\n",
    "* 二分木\n",
    "* ヒープ\n",
    "\n",
    "【コメント】\n",
    "ハフマン符号を求める Greedy、priority_queue(優先度付き待ち行列，優先度付きキュー)も用います。\n",
    "Codeforces の問題ですが、なんとか近いものがありました！\n",
    "\n",
    "優先度付きキュー： ある優先度（例えば、値の大きな物ほど優先度が高いとか）に従って、 優先度の高いものから順に取り出すことの出来るコレクション\n",
    "優先度が1番高い要素1つだけを効率よく取り出すことの出来る、 ヒープと呼ばれるデータ構造があり、 通常、優先度付き待ち行列は、このヒープを用いて実装\n",
    "Pythonでは[heapq](https://python.ms/binary-heap/#_2-%E3%82%B5%E3%83%B3%E3%83%97%E3%83%AB%E3%82%B3%E3%83%BC%E3%83%89)を用いることができる。"
   ]
  },
  {
   "cell_type": "code",
   "execution_count": null,
   "metadata": {},
   "outputs": [],
   "source": []
  }
 ],
 "metadata": {
  "kernelspec": {
   "display_name": "Python 3",
   "language": "python",
   "name": "python3"
  },
  "language_info": {
   "codemirror_mode": {
    "name": "ipython",
    "version": 3
   },
   "file_extension": ".py",
   "mimetype": "text/x-python",
   "name": "python",
   "nbconvert_exporter": "python",
   "pygments_lexer": "ipython3",
   "version": "3.6.9"
  }
 },
 "nbformat": 4,
 "nbformat_minor": 2
}
