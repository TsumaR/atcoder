{
 "cells": [
  {
   "cell_type": "markdown",
   "metadata": {},
   "source": [
    "# 全てのきほん \"全探索\"\n",
    "\n",
    "## 例題 2-1-1 部分和問題\n",
    "\n",
    "再起関数を用いて全探索を行う。\n",
    "参考にした例では，\n",
    "\n",
    "```\n",
    "def dfs():\n",
    "    if 最後まで来ていたら:\n",
    "         return\n",
    "    まだ途中なら:\n",
    "    　　　処理内容\n",
    "```\n",
    "\n",
    "といった形を取っていた。"
   ]
  },
  {
   "cell_type": "markdown",
   "metadata": {},
   "source": [
    "### abc045c\n",
    "\n",
    "1 以上 9 以下の数字のみからなる文字列 \n",
    "S\n",
    " が与えられます。 この文字列の中で、あなたはこれら文字と文字の間のうち、いくつかの場所に + を入れることができます。 一つも入れなくてもかまいません。 ただし、+ が連続してはいけません。\n",
    "\n",
    "このようにして出来る全ての文字列を数式とみなし、和を計算することができます。\n",
    "\n",
    "ありうる全ての数式の値を計算し、その合計を出力してください。\n",
    " \n",
    " #### 部分話の例\n",
    " \n",
    " 与えられた整数値の全てを合計する"
   ]
  },
  {
   "cell_type": "code",
   "execution_count": 1,
   "metadata": {},
   "outputs": [
    {
     "name": "stdout",
     "output_type": "stream",
     "text": [
      "5050\n"
     ]
    }
   ],
   "source": [
    "def total(n):\n",
    "    if n < 1:\n",
    "        return 0\n",
    "\n",
    "    return n + total(n - 1)\n",
    "\n",
    "print(total(100))"
   ]
  },
  {
   "cell_type": "markdown",
   "metadata": {},
   "source": [
    "全探索で前から+をいれる箇所と入れない箇所をリストとして保持しておけば良い。"
   ]
  },
  {
   "cell_type": "code",
   "execution_count": 19,
   "metadata": {},
   "outputs": [
    {
     "name": "stdin",
     "output_type": "stream",
     "text": [
      " 9999999999\n"
     ]
    },
    {
     "name": "stdout",
     "output_type": "stream",
     "text": [
      "12656242944\n"
     ]
    }
   ],
   "source": [
    "s = input()\n",
    "l = len(s)\n",
    "\n",
    "def dfs(i, sentence):\n",
    "    # 再起が最後まで終了した時\n",
    "    if i == l - 1:\n",
    "        return sum(list(map(int, sentence.split(\"+\"))))\n",
    "    return dfs(i+1, sentence + \"+\" + s[i+1]) + dfs(i+1, sentence+s[i+1])\n",
    "\n",
    "print(dfs(0, s[0]))"
   ]
  },
  {
   "cell_type": "markdown",
   "metadata": {},
   "source": [
    "#### abc079c train ticket\n",
    "\n",
    "駅の待合室に座っているjoisinoお姉ちゃんは，切符を眺めています。\n",
    "切符には4つの0以上9以下の整数A B C Dが整理番号としてこの順に書かれています。\n",
    "Aop1 Bop2 Cop3 D = 7となるように，op1op2op3に+か-を入れて式を作ってください。\n",
    "なお，答えが存在しない入力は与えられず，また答えが複数存在する場合はどれを出力しても良いものとします。\n",
    "\n",
    "0\n",
    "≦\n",
    "A\n",
    ",\n",
    "B\n",
    ",\n",
    "C\n",
    ",\n",
    "D\n",
    "≦\n",
    "9"
   ]
  },
  {
   "cell_type": "code",
   "execution_count": 3,
   "metadata": {},
   "outputs": [
    {
     "name": "stdin",
     "output_type": "stream",
     "text": [
      " 3242\n"
     ]
    },
    {
     "name": "stdout",
     "output_type": "stream",
     "text": [
      "3+2+4-2=7\n",
      "3-2+4+2=7\n"
     ]
    }
   ],
   "source": [
    "s = input()\n",
    "\n",
    "def dfs(i, f, sum):\n",
    "    if i == 3:\n",
    "        if sum == 7:\n",
    "            print(f + \"=7\")\n",
    "            exit()\n",
    "    else:\n",
    "        dfs(i+1, f+\"+\"+s[i+1], sum + int(s[i+1]))\n",
    "        dfs(i+1, f+\"-\"+s[i+1], sum - int(s[i+1]))\n",
    "\n",
    "dfs(0, s[0], int(s[0]))"
   ]
  },
  {
   "cell_type": "markdown",
   "metadata": {},
   "source": [
    "#### abc104c-allGreen\n",
    "\n",
    "プログラミングコンペティションサイト AtCode は、アルゴリズムの問題集を提供しています。 それぞれの問題には、難易度に応じて点数が付けられています。 現在、\n",
    "1\n",
    " 以上 \n",
    "D\n",
    " 以下のそれぞれの整数 \n",
    "i\n",
    " に対して、\n",
    "100\n",
    "i\n",
    " 点を付けられた問題が \n",
    "p\n",
    "i\n",
    " 問存在します。 これらの \n",
    "p\n",
    "1\n",
    "+\n",
    "…\n",
    "+\n",
    "p\n",
    "D\n",
    " 問が AtCode に収録された問題のすべてです。\n",
    "\n",
    "AtCode のユーザーは 総合スコア と呼ばれる値を持ちます。 ユーザーの総合スコアは、以下の \n",
    "2\n",
    " つの要素の和です。\n",
    "\n",
    "基本スコア: ユーザーが解いた問題すべての配点の合計です。\n",
    "コンプリートボーナス: \n",
    "100\n",
    "i\n",
    " 点を付けられた \n",
    "p\n",
    "i\n",
    " 問の問題すべてを解いたユーザーは、基本スコアと別にコンプリートボーナス \n",
    "c\n",
    "i\n",
    " 点を獲得します \n",
    "(\n",
    "1\n",
    "≤\n",
    "i\n",
    "≤\n",
    "D\n",
    ")\n",
    "。\n",
    "AtCode の新たなユーザーとなった高橋くんは、まだ問題を \n",
    "1\n",
    " 問も解いていません。 彼の目標は、総合スコアを \n",
    "G\n",
    " 点以上にすることです。 このためには、少なくとも何問の問題を解く必要があるでしょうか？\n",
    " \n",
    " 制約\n",
    "1\n",
    "≤\n",
    "D\n",
    "≤\n",
    "10\n",
    "1\n",
    "≤\n",
    "p\n",
    "i\n",
    "≤\n",
    "100\n",
    "100\n",
    "≤\n",
    "c\n",
    "i\n",
    "≤\n",
    "10\n",
    "6\n",
    "100\n",
    "≤\n",
    "G\n",
    "入力中のすべての値は整数である。\n",
    "c\n",
    "i\n",
    ",\n",
    "G\n",
    " はすべて \n",
    "100\n",
    " の倍数である。\n",
    "総合スコアを \n",
    "G\n",
    " 点以上にすることは可能である。"
   ]
  },
  {
   "cell_type": "markdown",
   "metadata": {},
   "source": [
    "中途半端なのを複数解くくらいなら得点の高い方を，ボーナスがもらえるまで解いてしまった方が早い。よって，中途半端に解く問題は0以上1種類以下。\n",
    "完全に解くかを決める→残りの配点のうちもっとも高いものが中途半端に解く問題となる。\n",
    "再起関数で定義する。\n",
    "総合点-完全に解く数\n",
    "\n",
    "関数内でglobal変数を宣言することで記載をコンパクトに"
   ]
  },
  {
   "cell_type": "code",
   "execution_count": 15,
   "metadata": {},
   "outputs": [
    {
     "name": "stdin",
     "output_type": "stream",
     "text": [
      " 2 400\n",
      " 3 500\n",
      " 5 800\n"
     ]
    },
    {
     "name": "stdout",
     "output_type": "stream",
     "text": [
      "5\n",
      "3\n",
      "8\n",
      "3\n"
     ]
    }
   ],
   "source": [
    "d, g = map(int, input().split())\n",
    "pc = [list(map(int, input().split())) for i in range(d)]\n",
    "\n",
    "# 解いていない問題の配点をrestとして保持しておく。\n",
    "# iは解いた問題の種類(配点/100)\n",
    "# countは解いた問題の数\n",
    "def dfs(i,sum,count,rest):\n",
    "    # global変数としてansを引継ぎ\n",
    "    global ans\n",
    "    if i == d:\n",
    "        # 合計がgoalを超えていなければrestに残っている問題の中で最大の得点の問題を解いていく。\n",
    "        if sum < g:\n",
    "            use = max(rest)\n",
    "            n = min(pc[use-1][0], -(-(g-sum)//(use*100)))\n",
    "            count += n\n",
    "            sum += n*use * 100\n",
    "            \n",
    "        # 合計値が与えられた得点を超えていたら，最小の問題数を答える。\n",
    "        elif sum >= g:\n",
    "            ans = min(ans, count)\n",
    "            \n",
    "    else:\n",
    "        # 総合スコア，解いた問題数，まだ解いていない問題を更新する。\n",
    "        # i得点の問題を解かないで次に進める場合\n",
    "        dfs(i+1, sum, count, rest)\n",
    "        # i得点の問題を解いて先に進める場合，得点と問題数を加え，restからその得点要素を消去\n",
    "        dfs(i+1, sum + pc[i][0]*(i+1)*100 + pc[i][1], count+pc[i][0], rest - {i+1})\n",
    "\n",
    "ans = float(\"inf\")\n",
    "dfs(0,0,0,set(range(1,d+1)))\n",
    "\n",
    "# 関数内で定義したグローバル変数を出力する\n",
    "print(ans)"
   ]
  }
 ],
 "metadata": {
  "kernelspec": {
   "display_name": "Python 3",
   "language": "python",
   "name": "python3"
  },
  "language_info": {
   "codemirror_mode": {
    "name": "ipython",
    "version": 3
   },
   "file_extension": ".py",
   "mimetype": "text/x-python",
   "name": "python",
   "nbconvert_exporter": "python",
   "pygments_lexer": "ipython3",
   "version": "3.6.9"
  }
 },
 "nbformat": 4,
 "nbformat_minor": 2
}
