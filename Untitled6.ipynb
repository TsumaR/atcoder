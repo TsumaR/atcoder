{
 "cells": [
  {
   "cell_type": "code",
   "execution_count": null,
   "metadata": {},
   "outputs": [],
   "source": [
    "N,M = list(map(int, input().split()))\n",
    "X = [list(map(int, input().split())) for i in range(N)]\n",
    "\n",
    "l = M\n",
    "result = 0\n",
    "while l > 0:\n",
    "    index_lis = [i for i, v in enumerate(X) if v[1] == max(X, key=lambda xx: xx[1])[1]]\n",
    "    if len(index_lis) >= 2:\n",
    "        a = max(X, key=lambda xx: xx[index_lis][0])\n",
    "    else:\n",
    "        a = X[index_lis[0]]\n",
    "    if a[0] > l:\n",
    "        X.remove(a)\n",
    "    elif a[0] <= l:\n",
    "        result += a[1]\n",
    "        l -= 1\n",
    "        X.remove(a)\n",
    "print(result)"
   ]
  },
  {
   "cell_type": "code",
   "execution_count": 13,
   "metadata": {},
   "outputs": [
    {
     "name": "stdout",
     "output_type": "stream",
     "text": [
      "4\n"
     ]
    }
   ],
   "source": [
    "a = max(X, key = lambda xx: xx[1])[1]\n",
    "print(a)"
   ]
  },
  {
   "cell_type": "code",
   "execution_count": null,
   "metadata": {},
   "outputs": [],
   "source": [
    "import heapq\n",
    "import sys\n",
    " \n",
    "N, M = list(map(int, input().split()))\n",
    "jobs = []\n",
    "\n",
    "#上限内で報酬を得られる単発を一度リストに入れる。\n",
    "for line in sys.stdin:\n",
    "    A, B = map(int, line.split())\n",
    "    if A > M:\n",
    "        continue\n",
    "    jobs.append((A, B))\n",
    "\n",
    "#逆順にsort\n",
    "jobs.sort(reverse=True)\n",
    "\n",
    "#\n",
    "q = []\n",
    "ans = 0\n",
    "for i in range(1, M + 1):\n",
    "    while jobs and jobs[-1][0] <= i:\n",
    "        A, B = jobs.pop()\n",
    "        heapq.heappush(q, -B)\n",
    " \n",
    "    if q:\n",
    "        ans += -heapq.heappop(q)\n",
    "print(ans)"
   ]
  },
  {
   "cell_type": "code",
   "execution_count": null,
   "metadata": {},
   "outputs": [],
   "source": []
  }
 ],
 "metadata": {
  "kernelspec": {
   "display_name": "Python 3",
   "language": "python",
   "name": "python3"
  },
  "language_info": {
   "codemirror_mode": {
    "name": "ipython",
    "version": 3
   },
   "file_extension": ".py",
   "mimetype": "text/x-python",
   "name": "python",
   "nbconvert_exporter": "python",
   "pygments_lexer": "ipython3",
   "version": "3.6.1"
  }
 },
 "nbformat": 4,
 "nbformat_minor": 2
}
