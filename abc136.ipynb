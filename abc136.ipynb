{
 "cells": [
  {
   "cell_type": "code",
   "execution_count": 6,
   "metadata": {},
   "outputs": [
    {
     "name": "stdout",
     "output_type": "stream",
     "text": [
      "[[0 1 2 3 4 5 6 7 8 9]\n",
      " [0 1 2 3 4 5 6 7 8 9]\n",
      " [0 1 2 3 4 5 6 7 8 9]\n",
      " [0 1 2 3 4 5 6 7 8 9]\n",
      " [0 1 2 3 4 5 6 7 8 9]\n",
      " [0 1 2 3 4 5 6 7 8 9]]\n",
      "[[ 0  0  0  0  0  0]\n",
      " [ 1 10  9 12  3  4]\n",
      " [ 2  7  5 11  6  8]\n",
      " [ 3  4  1 10  9 12]\n",
      " [ 4  1 10  9 12  3]\n",
      " [ 5 11  6  8  2  7]\n",
      " [ 6  8  2  7  5 11]\n",
      " [ 7  5 11  6  8  2]\n",
      " [ 8  2  7  5 11  6]\n",
      " [ 9 12  3  4  1 10]]\n"
     ]
    }
   ],
   "source": [
    "#question d\n",
    "\n",
    "import numpy as np\n",
    "mod = 10*9+7\n",
    "#10のn乗を13で割った時のあまり(十進法だから)\n",
    "a = 10 ** np.arange(6) % 13\n",
    "#0~9の一次元配列を6個(10で割った時のループ数)\n",
    "b = np.tile(np.arange(10),(6, 1))\n",
    "print(b)\n",
    "#b.Tはtの転置行列\n",
    "c = a * b.T % 13\n",
    "print(c)\n"
   ]
  },
  {
   "cell_type": "code",
   "execution_count": null,
   "metadata": {},
   "outputs": [],
   "source": []
  }
 ],
 "metadata": {
  "kernelspec": {
   "display_name": "Python 3",
   "language": "python",
   "name": "python3"
  },
  "language_info": {
   "codemirror_mode": {
    "name": "ipython",
    "version": 3
   },
   "file_extension": ".py",
   "mimetype": "text/x-python",
   "name": "python",
   "nbconvert_exporter": "python",
   "pygments_lexer": "ipython3",
   "version": "3.6.1"
  }
 },
 "nbformat": 4,
 "nbformat_minor": 2
}
