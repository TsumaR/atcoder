{
 "cells": [
  {
   "cell_type": "code",
   "execution_count": null,
   "metadata": {},
   "outputs": [],
   "source": [
    "length = input()\n",
    "list = list(map(int, input().split()))\n",
    " \n",
    "for i in range(length):\n",
    "  if i == (length - 1):\n",
    "    print('Yes')\n",
    "    break\n",
    "  elif (list[i+1] - list[i]) >1 :\n",
    "    list[i+1] += 1 \n",
    "  elif list[i+1] >= 1 :\n",
    "    continue\n",
    "  elif list[i+1] < list[i]:\n",
    "    print(\"No\")\n",
    "    break"
   ]
  },
  {
   "cell_type": "code",
   "execution_count": null,
   "metadata": {},
   "outputs": [],
   "source": [
    "for i in range(length):\n",
    "  if i == length:\n",
    "    print('Yes')\n",
    "  elif list[i+1] - list[i] >1 :\n",
    "    list[i+1] += 1 \n",
    "  elif list[i+1] >= 1 :\n",
    "    continue\n",
    "  elif list[i+1] < list[i]:\n",
    "    print(\"No\")\n",
    "    break"
   ]
  },
  {
   "cell_type": "code",
   "execution_count": null,
   "metadata": {},
   "outputs": [],
   "source": [
    "length = input()\n",
    "list = map(int, )\n",
    "\n",
    "for i in range(length):\n",
    "  if i == length:\n",
    "    print('Yes')\n",
    "  elif list[i+1] - list[i] >1 :\n",
    "    list[i+1] += 1 \n",
    "  elif list[i+1] >= 1 :\n",
    "    continue\n",
    "  elif list[i+1] < list[i]:\n",
    "    print(\"No\")\n",
    "    break"
   ]
  }
 ],
 "metadata": {
  "kernelspec": {
   "display_name": "Python 3",
   "language": "python",
   "name": "python3"
  },
  "language_info": {
   "codemirror_mode": {
    "name": "ipython",
    "version": 3
   },
   "file_extension": ".py",
   "mimetype": "text/x-python",
   "name": "python",
   "nbconvert_exporter": "python",
   "pygments_lexer": "ipython3",
   "version": "3.6.1"
  }
 },
 "nbformat": 4,
 "nbformat_minor": 2
}
